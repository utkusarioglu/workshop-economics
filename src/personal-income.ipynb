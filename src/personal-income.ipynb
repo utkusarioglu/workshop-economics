{
 "cells": [
  {
   "cell_type": "code",
   "execution_count": 1,
   "metadata": {},
   "outputs": [],
   "source": [
    "from pprint import PrettyPrinter\n",
    "import pandas as pd\n",
    "from econ_utils import bea_api, create_df\n",
    "import matplotlib.pyplot as plt\n",
    "import squarify\n",
    "import locale\n",
    "from locale import atof\n",
    "\n",
    "# locale.setlocale(locale.LC_ALL, \"de_DE\")\n",
    "pd.set_option(\"display.max_rows\", None)\n",
    "pp = PrettyPrinter(indent=2)"
   ]
  },
  {
   "cell_type": "markdown",
   "metadata": {},
   "source": [
    "## Personal Income"
   ]
  },
  {
   "cell_type": "code",
   "execution_count": 81,
   "metadata": {},
   "outputs": [],
   "source": [
    "_, results = bea_api(\n",
    "  method=\"getDatasetList\",\n",
    ") \n",
    "dataset_list_df = create_df(results[\"Dataset\"])"
   ]
  },
  {
   "cell_type": "code",
   "execution_count": 82,
   "metadata": {},
   "outputs": [
    {
     "data": {
      "text/html": [
       "<div>\n",
       "<style scoped>\n",
       "    .dataframe tbody tr th:only-of-type {\n",
       "        vertical-align: middle;\n",
       "    }\n",
       "\n",
       "    .dataframe tbody tr th {\n",
       "        vertical-align: top;\n",
       "    }\n",
       "\n",
       "    .dataframe thead th {\n",
       "        text-align: right;\n",
       "    }\n",
       "</style>\n",
       "<table border=\"1\" class=\"dataframe\">\n",
       "  <thead>\n",
       "    <tr style=\"text-align: right;\">\n",
       "      <th></th>\n",
       "      <th>DatasetName</th>\n",
       "      <th>DatasetDescription</th>\n",
       "    </tr>\n",
       "  </thead>\n",
       "  <tbody>\n",
       "    <tr>\n",
       "      <th>0</th>\n",
       "      <td>NIPA</td>\n",
       "      <td>Standard NIPA tables</td>\n",
       "    </tr>\n",
       "    <tr>\n",
       "      <th>1</th>\n",
       "      <td>NIUnderlyingDetail</td>\n",
       "      <td>Standard NI underlying detail tables</td>\n",
       "    </tr>\n",
       "    <tr>\n",
       "      <th>2</th>\n",
       "      <td>MNE</td>\n",
       "      <td>Multinational Enterprises</td>\n",
       "    </tr>\n",
       "    <tr>\n",
       "      <th>3</th>\n",
       "      <td>FixedAssets</td>\n",
       "      <td>Standard Fixed Assets tables</td>\n",
       "    </tr>\n",
       "    <tr>\n",
       "      <th>4</th>\n",
       "      <td>ITA</td>\n",
       "      <td>International Transactions Accounts</td>\n",
       "    </tr>\n",
       "    <tr>\n",
       "      <th>5</th>\n",
       "      <td>IIP</td>\n",
       "      <td>International Investment Position</td>\n",
       "    </tr>\n",
       "    <tr>\n",
       "      <th>6</th>\n",
       "      <td>InputOutput</td>\n",
       "      <td>Input-Output Data</td>\n",
       "    </tr>\n",
       "    <tr>\n",
       "      <th>7</th>\n",
       "      <td>IntlServTrade</td>\n",
       "      <td>International Services Trade</td>\n",
       "    </tr>\n",
       "    <tr>\n",
       "      <th>8</th>\n",
       "      <td>GDPbyIndustry</td>\n",
       "      <td>GDP by Industry</td>\n",
       "    </tr>\n",
       "    <tr>\n",
       "      <th>9</th>\n",
       "      <td>Regional</td>\n",
       "      <td>Regional data sets</td>\n",
       "    </tr>\n",
       "    <tr>\n",
       "      <th>10</th>\n",
       "      <td>UnderlyingGDPbyIndustry</td>\n",
       "      <td>Underlying GDP by Industry</td>\n",
       "    </tr>\n",
       "    <tr>\n",
       "      <th>11</th>\n",
       "      <td>APIDatasetMetaData</td>\n",
       "      <td>Metadata about other API datasets</td>\n",
       "    </tr>\n",
       "  </tbody>\n",
       "</table>\n",
       "</div>"
      ],
      "text/plain": [
       "                DatasetName                    DatasetDescription\n",
       "0                      NIPA                  Standard NIPA tables\n",
       "1        NIUnderlyingDetail  Standard NI underlying detail tables\n",
       "2                       MNE             Multinational Enterprises\n",
       "3               FixedAssets          Standard Fixed Assets tables\n",
       "4                       ITA   International Transactions Accounts\n",
       "5                       IIP     International Investment Position\n",
       "6               InputOutput                     Input-Output Data\n",
       "7             IntlServTrade          International Services Trade\n",
       "8             GDPbyIndustry                       GDP by Industry\n",
       "9                  Regional                    Regional data sets\n",
       "10  UnderlyingGDPbyIndustry            Underlying GDP by Industry\n",
       "11       APIDatasetMetaData     Metadata about other API datasets"
      ]
     },
     "execution_count": 82,
     "metadata": {},
     "output_type": "execute_result"
    }
   ],
   "source": [
    "dataset_list_df"
   ]
  },
  {
   "cell_type": "code",
   "execution_count": 85,
   "metadata": {},
   "outputs": [],
   "source": [
    "_, results = bea_api(\n",
    "  method=\"getParameterList\",\n",
    "  datasetName=\"NIPA\",\n",
    ")\n",
    "nipa_param_list = create_df(results[\"Parameter\"])"
   ]
  },
  {
   "cell_type": "code",
   "execution_count": 86,
   "metadata": {},
   "outputs": [
    {
     "data": {
      "text/html": [
       "<style type=\"text/css\">\n",
       "#T_44560_row0_col2, #T_44560_row1_col2, #T_44560_row2_col2, #T_44560_row3_col2, #T_44560_row4_col2 {\n",
       "  width: 400px;\n",
       "}\n",
       "</style>\n",
       "<table id=\"T_44560\">\n",
       "  <thead>\n",
       "    <tr>\n",
       "      <th class=\"blank level0\" >&nbsp;</th>\n",
       "      <th id=\"T_44560_level0_col0\" class=\"col_heading level0 col0\" >ParameterName</th>\n",
       "      <th id=\"T_44560_level0_col1\" class=\"col_heading level0 col1\" >ParameterDataType</th>\n",
       "      <th id=\"T_44560_level0_col2\" class=\"col_heading level0 col2\" >ParameterDescription</th>\n",
       "      <th id=\"T_44560_level0_col3\" class=\"col_heading level0 col3\" >ParameterIsRequiredFlag</th>\n",
       "      <th id=\"T_44560_level0_col4\" class=\"col_heading level0 col4\" >ParameterDefaultValue</th>\n",
       "      <th id=\"T_44560_level0_col5\" class=\"col_heading level0 col5\" >MultipleAcceptedFlag</th>\n",
       "      <th id=\"T_44560_level0_col6\" class=\"col_heading level0 col6\" >AllValue</th>\n",
       "    </tr>\n",
       "  </thead>\n",
       "  <tbody>\n",
       "    <tr>\n",
       "      <th id=\"T_44560_level0_row0\" class=\"row_heading level0 row0\" >0</th>\n",
       "      <td id=\"T_44560_row0_col0\" class=\"data row0 col0\" >Frequency</td>\n",
       "      <td id=\"T_44560_row0_col1\" class=\"data row0 col1\" >string</td>\n",
       "      <td id=\"T_44560_row0_col2\" class=\"data row0 col2\" >A - Annual, Q-Quarterly, M-Monthly</td>\n",
       "      <td id=\"T_44560_row0_col3\" class=\"data row0 col3\" >1</td>\n",
       "      <td id=\"T_44560_row0_col4\" class=\"data row0 col4\" ></td>\n",
       "      <td id=\"T_44560_row0_col5\" class=\"data row0 col5\" >1</td>\n",
       "      <td id=\"T_44560_row0_col6\" class=\"data row0 col6\" ></td>\n",
       "    </tr>\n",
       "    <tr>\n",
       "      <th id=\"T_44560_level0_row1\" class=\"row_heading level0 row1\" >1</th>\n",
       "      <td id=\"T_44560_row1_col0\" class=\"data row1 col0\" >ShowMillions</td>\n",
       "      <td id=\"T_44560_row1_col1\" class=\"data row1 col1\" >string</td>\n",
       "      <td id=\"T_44560_row1_col2\" class=\"data row1 col2\" >A flag indicating that million-dollar data should be returned.</td>\n",
       "      <td id=\"T_44560_row1_col3\" class=\"data row1 col3\" >0</td>\n",
       "      <td id=\"T_44560_row1_col4\" class=\"data row1 col4\" >N</td>\n",
       "      <td id=\"T_44560_row1_col5\" class=\"data row1 col5\" >0</td>\n",
       "      <td id=\"T_44560_row1_col6\" class=\"data row1 col6\" ></td>\n",
       "    </tr>\n",
       "    <tr>\n",
       "      <th id=\"T_44560_level0_row2\" class=\"row_heading level0 row2\" >2</th>\n",
       "      <td id=\"T_44560_row2_col0\" class=\"data row2 col0\" >TableID</td>\n",
       "      <td id=\"T_44560_row2_col1\" class=\"data row2 col1\" >integer</td>\n",
       "      <td id=\"T_44560_row2_col2\" class=\"data row2 col2\" >The standard NIPA table identifier</td>\n",
       "      <td id=\"T_44560_row2_col3\" class=\"data row2 col3\" >0</td>\n",
       "      <td id=\"T_44560_row2_col4\" class=\"data row2 col4\" >nan</td>\n",
       "      <td id=\"T_44560_row2_col5\" class=\"data row2 col5\" >0</td>\n",
       "      <td id=\"T_44560_row2_col6\" class=\"data row2 col6\" ></td>\n",
       "    </tr>\n",
       "    <tr>\n",
       "      <th id=\"T_44560_level0_row3\" class=\"row_heading level0 row3\" >3</th>\n",
       "      <td id=\"T_44560_row3_col0\" class=\"data row3 col0\" >TableName</td>\n",
       "      <td id=\"T_44560_row3_col1\" class=\"data row3 col1\" >string</td>\n",
       "      <td id=\"T_44560_row3_col2\" class=\"data row3 col2\" >The new NIPA table identifier</td>\n",
       "      <td id=\"T_44560_row3_col3\" class=\"data row3 col3\" >0</td>\n",
       "      <td id=\"T_44560_row3_col4\" class=\"data row3 col4\" >nan</td>\n",
       "      <td id=\"T_44560_row3_col5\" class=\"data row3 col5\" >0</td>\n",
       "      <td id=\"T_44560_row3_col6\" class=\"data row3 col6\" ></td>\n",
       "    </tr>\n",
       "    <tr>\n",
       "      <th id=\"T_44560_level0_row4\" class=\"row_heading level0 row4\" >4</th>\n",
       "      <td id=\"T_44560_row4_col0\" class=\"data row4 col0\" >Year</td>\n",
       "      <td id=\"T_44560_row4_col1\" class=\"data row4 col1\" >integer</td>\n",
       "      <td id=\"T_44560_row4_col2\" class=\"data row4 col2\" >List of year(s) of data to retrieve (X for All)</td>\n",
       "      <td id=\"T_44560_row4_col3\" class=\"data row4 col3\" >1</td>\n",
       "      <td id=\"T_44560_row4_col4\" class=\"data row4 col4\" ></td>\n",
       "      <td id=\"T_44560_row4_col5\" class=\"data row4 col5\" >1</td>\n",
       "      <td id=\"T_44560_row4_col6\" class=\"data row4 col6\" >X</td>\n",
       "    </tr>\n",
       "  </tbody>\n",
       "</table>\n"
      ],
      "text/plain": [
       "<pandas.io.formats.style.Styler at 0x7f347ae23a90>"
      ]
     },
     "execution_count": 86,
     "metadata": {},
     "output_type": "execute_result"
    }
   ],
   "source": [
    "nipa_param_list.style.set_properties(subset=\"ParameterDescription\", width=\"400px\")"
   ]
  },
  {
   "cell_type": "code",
   "execution_count": 87,
   "metadata": {},
   "outputs": [],
   "source": [
    "_, results = bea_api(\n",
    "  method=\"getParameterValues\",\n",
    "  datasetName=\"NIPA\",\n",
    "  parameterName=\"TableID\"\n",
    ")\n",
    "nipa_param_table_id_values = create_df(results[\"ParamValue\"])"
   ]
  },
  {
   "cell_type": "code",
   "execution_count": 88,
   "metadata": {},
   "outputs": [
    {
     "data": {
      "text/html": [
       "<style type=\"text/css\">\n",
       "#T_60c98_row0_col1, #T_60c98_row1_col1, #T_60c98_row2_col1, #T_60c98_row3_col1, #T_60c98_row4_col1, #T_60c98_row5_col1, #T_60c98_row6_col1, #T_60c98_row7_col1, #T_60c98_row8_col1, #T_60c98_row9_col1, #T_60c98_row10_col1, #T_60c98_row11_col1, #T_60c98_row12_col1, #T_60c98_row13_col1 {\n",
       "  width: 600px;\n",
       "}\n",
       "</style>\n",
       "<table id=\"T_60c98\">\n",
       "  <thead>\n",
       "    <tr>\n",
       "      <th class=\"blank level0\" >&nbsp;</th>\n",
       "      <th id=\"T_60c98_level0_col0\" class=\"col_heading level0 col0\" >TableName</th>\n",
       "      <th id=\"T_60c98_level0_col1\" class=\"col_heading level0 col1\" >Description</th>\n",
       "    </tr>\n",
       "  </thead>\n",
       "  <tbody>\n",
       "    <tr>\n",
       "      <th id=\"T_60c98_level0_row0\" class=\"row_heading level0 row0\" >58</th>\n",
       "      <td id=\"T_60c98_row0_col0\" class=\"data row0 col0\" >T20200A</td>\n",
       "      <td id=\"T_60c98_row0_col1\" class=\"data row0 col1\" >Table 2.2A. Wages and Salaries by Industry (A) (Q)</td>\n",
       "    </tr>\n",
       "    <tr>\n",
       "      <th id=\"T_60c98_level0_row1\" class=\"row_heading level0 row1\" >59</th>\n",
       "      <td id=\"T_60c98_row1_col0\" class=\"data row1 col0\" >T20200B</td>\n",
       "      <td id=\"T_60c98_row1_col1\" class=\"data row1 col1\" >Table 2.2B. Wages and Salaries by Industry (A) (Q)</td>\n",
       "    </tr>\n",
       "    <tr>\n",
       "      <th id=\"T_60c98_level0_row2\" class=\"row_heading level0 row2\" >76</th>\n",
       "      <td id=\"T_60c98_row2_col0\" class=\"data row2 col0\" >T20700A</td>\n",
       "      <td id=\"T_60c98_row2_col1\" class=\"data row2 col1\" >Table 2.7A. Wages and Salaries by Industry, Monthly (M)</td>\n",
       "    </tr>\n",
       "    <tr>\n",
       "      <th id=\"T_60c98_level0_row3\" class=\"row_heading level0 row3\" >77</th>\n",
       "      <td id=\"T_60c98_row3_col0\" class=\"data row3 col0\" >T20700B</td>\n",
       "      <td id=\"T_60c98_row3_col1\" class=\"data row3 col1\" >Table 2.7B. Wages and Salaries by Industry, Monthly (M)</td>\n",
       "    </tr>\n",
       "    <tr>\n",
       "      <th id=\"T_60c98_level0_row4\" class=\"row_heading level0 row4\" >187</th>\n",
       "      <td id=\"T_60c98_row4_col0\" class=\"data row4 col0\" >T60300A</td>\n",
       "      <td id=\"T_60c98_row4_col1\" class=\"data row4 col1\" >Table 6.3A. Wages and Salaries by Industry (A)</td>\n",
       "    </tr>\n",
       "    <tr>\n",
       "      <th id=\"T_60c98_level0_row5\" class=\"row_heading level0 row5\" >188</th>\n",
       "      <td id=\"T_60c98_row5_col0\" class=\"data row5 col0\" >T60300B</td>\n",
       "      <td id=\"T_60c98_row5_col1\" class=\"data row5 col1\" >Table 6.3B. Wages and Salaries by Industry (A)</td>\n",
       "    </tr>\n",
       "    <tr>\n",
       "      <th id=\"T_60c98_level0_row6\" class=\"row_heading level0 row6\" >189</th>\n",
       "      <td id=\"T_60c98_row6_col0\" class=\"data row6 col0\" >T60300C</td>\n",
       "      <td id=\"T_60c98_row6_col1\" class=\"data row6 col1\" >Table 6.3C. Wages and Salaries by Industry (A)</td>\n",
       "    </tr>\n",
       "    <tr>\n",
       "      <th id=\"T_60c98_level0_row7\" class=\"row_heading level0 row7\" >190</th>\n",
       "      <td id=\"T_60c98_row7_col0\" class=\"data row7 col0\" >T60300D</td>\n",
       "      <td id=\"T_60c98_row7_col1\" class=\"data row7 col1\" >Table 6.3D. Wages and Salaries by Industry (A)</td>\n",
       "    </tr>\n",
       "    <tr>\n",
       "      <th id=\"T_60c98_level0_row8\" class=\"row_heading level0 row8\" >199</th>\n",
       "      <td id=\"T_60c98_row8_col0\" class=\"data row8 col0\" >T60600A</td>\n",
       "      <td id=\"T_60c98_row8_col1\" class=\"data row8 col1\" >Table 6.6A. Wages and Salaries Per Full-Time Equivalent Employee by Industry (A)</td>\n",
       "    </tr>\n",
       "    <tr>\n",
       "      <th id=\"T_60c98_level0_row9\" class=\"row_heading level0 row9\" >200</th>\n",
       "      <td id=\"T_60c98_row9_col0\" class=\"data row9 col0\" >T60600B</td>\n",
       "      <td id=\"T_60c98_row9_col1\" class=\"data row9 col1\" >Table 6.6B. Wages and Salaries Per Full-Time Equivalent Employee by Industry (A)</td>\n",
       "    </tr>\n",
       "    <tr>\n",
       "      <th id=\"T_60c98_level0_row10\" class=\"row_heading level0 row10\" >201</th>\n",
       "      <td id=\"T_60c98_row10_col0\" class=\"data row10 col0\" >T60600C</td>\n",
       "      <td id=\"T_60c98_row10_col1\" class=\"data row10 col1\" >Table 6.6C. Wages and Salaries Per Full-Time Equivalent Employee by Industry (A)</td>\n",
       "    </tr>\n",
       "    <tr>\n",
       "      <th id=\"T_60c98_level0_row11\" class=\"row_heading level0 row11\" >202</th>\n",
       "      <td id=\"T_60c98_row11_col0\" class=\"data row11 col0\" >T60600D</td>\n",
       "      <td id=\"T_60c98_row11_col1\" class=\"data row11 col1\" >Table 6.6D. Wages and Salaries Per Full-Time Equivalent Employee by Industry (A)</td>\n",
       "    </tr>\n",
       "    <tr>\n",
       "      <th id=\"T_60c98_level0_row12\" class=\"row_heading level0 row12\" >286</th>\n",
       "      <td id=\"T_60c98_row12_col0\" class=\"data row12 col0\" >T70800</td>\n",
       "      <td id=\"T_60c98_row12_col1\" class=\"data row12 col1\" >Table 7.8. Supplements to Wages and Salaries by Type (A)</td>\n",
       "    </tr>\n",
       "    <tr>\n",
       "      <th id=\"T_60c98_level0_row13\" class=\"row_heading level0 row13\" >296</th>\n",
       "      <td id=\"T_60c98_row13_col0\" class=\"data row13 col0\" >T71800</td>\n",
       "      <td id=\"T_60c98_row13_col1\" class=\"data row13 col1\" >Table 7.18. Relation of Wages and Salaries in the National Income and Product Accounts to Wages and Salaries as Published by the Bureau of Labor Statistics (A)</td>\n",
       "    </tr>\n",
       "  </tbody>\n",
       "</table>\n"
      ],
      "text/plain": [
       "<pandas.io.formats.style.Styler at 0x7f347ae921c0>"
      ]
     },
     "execution_count": 88,
     "metadata": {},
     "output_type": "execute_result"
    }
   ],
   "source": [
    "nipa_param_table_id_values.query(\"Description.str.contains('Wage')\").style.set_properties(subset=\"Description\", width=\"600px\")"
   ]
  },
  {
   "cell_type": "code",
   "execution_count": 35,
   "metadata": {},
   "outputs": [],
   "source": [
    "_, results, keys = bea_api(\n",
    "  method=\"getData\",\n",
    "  datasetName=\"NIPA\",\n",
    "  frequency=\"A\",\n",
    "  tableName=\"T60300D\",\n",
    "  year=\"All\"\n",
    ")"
   ]
  },
  {
   "cell_type": "code",
   "execution_count": 76,
   "metadata": {},
   "outputs": [],
   "source": [
    "df = create_df(results[\"Data\"]).astype({\"TimePeriod\": \"int\"})\n",
    "df[\"DataValue\"] = df[\"DataValue\"].apply(lambda n : int(n.replace(\",\", \"\")))\n",
    "axes = {\"x\": \"TimePeriod\", \"y\": \"DataValue\"}"
   ]
  },
  {
   "cell_type": "code",
   "execution_count": 78,
   "metadata": {},
   "outputs": [
    {
     "data": {
      "text/plain": [
       "<AxesSubplot:xlabel='TimePeriod'>"
      ]
     },
     "execution_count": 78,
     "metadata": {},
     "output_type": "execute_result"
    },
    {
     "data": {
      "image/png": "[encoded data removed]",
      "text/plain": [
       "<Figure size 432x288 with 1 Axes>"
      ]
     },
     "metadata": {},
     "output_type": "display_data"
    }
   ],
   "source": [
    "wages = df.loc[df[\"LineDescription\"] == \"Wages and salaries\"]\n",
    "wages.plot(**axes)"
   ]
  },
  {
   "cell_type": "code",
   "execution_count": 79,
   "metadata": {},
   "outputs": [
    {
     "data": {
      "text/plain": [
       "array(['Wages and salaries', 'Domestic industries', 'Private industries',\n",
       "       'Agriculture, forestry, fishing, and hunting', 'Farms',\n",
       "       'Forestry, fishing, and related activities', 'Mining',\n",
       "       'Oil and gas extraction', 'Mining, except oil and gas',\n",
       "       'Support activities for mining'], dtype=object)"
      ]
     },
     "execution_count": 79,
     "metadata": {},
     "output_type": "execute_result"
    }
   ],
   "source": [
    "descriptions = df.LineDescription.unique()\n",
    "descriptions[:10]"
   ]
  },
  {
   "cell_type": "code",
   "execution_count": 80,
   "metadata": {},
   "outputs": [
    {
     "data": {
      "text/plain": [
       "<AxesSubplot:xlabel='TimePeriod'>"
      ]
     },
     "execution_count": 80,
     "metadata": {},
     "output_type": "execute_result"
    },
    {
     "data": {
      "image/png": "[encoded data removed]",
      "text/plain": [
       "<Figure size 432x288 with 1 Axes>"
      ]
     },
     "metadata": {},
     "output_type": "display_data"
    }
   ],
   "source": [
    "comp = df.loc[df.LineDescription == \"Computer and electronic products\"]\n",
    "comp.plot(**axes)"
   ]
  },
  {
   "cell_type": "code",
   "execution_count": 81,
   "metadata": {},
   "outputs": [
    {
     "data": {
      "text/plain": [
       "<AxesSubplot:xlabel='TimePeriod'>"
      ]
     },
     "execution_count": 81,
     "metadata": {},
     "output_type": "execute_result"
    },
    {
     "data": {
      "image/png": "[encoded data removed]",
      "text/plain": [
       "<Figure size 432x288 with 1 Axes>"
      ]
     },
     "metadata": {},
     "output_type": "display_data"
    }
   ],
   "source": [
    "oil = df.loc[df.LineDescription == \"Oil and gas extraction\"]\n",
    "oil.plot(**axes)"
   ]
  },
  {
   "cell_type": "code",
   "execution_count": 27,
   "metadata": {},
   "outputs": [
    {
     "data": {
      "image/png": "[encoded data removed]",
      "text/plain": [
       "<Figure size 432x288 with 1 Axes>"
      ]
     },
     "metadata": {},
     "output_type": "display_data"
    }
   ],
   "source": [
    "head = wages_and_salaries_by_ind_max.head(10)\n",
    "squarify.plot(\n",
    "  sizes=head['DataValue'], \n",
    "  label=head['LineDescription'], \n",
    "  alpha=.8\n",
    ")\n",
    "plt.axis('off')\n",
    "plt.show()"
   ]
  },
  {
   "cell_type": "code",
   "execution_count": null,
   "metadata": {},
   "outputs": [],
   "source": []
  }
 ],
 "metadata": {
  "interpreter": {
   "hash": "d4d1e4263499bec80672ea0156c357c1ee493ec2b1c70f0acce89fc37c4a6abe"
  },
  "kernelspec": {
   "display_name": "Python 3.9.5 ('base')",
   "language": "python",
   "name": "python3"
  },
  "language_info": {
   "codemirror_mode": {
    "name": "ipython",
    "version": 3
   },
   "file_extension": ".py",
   "mimetype": "text/x-python",
   "name": "python",
   "nbconvert_exporter": "python",
   "pygments_lexer": "ipython3",
   "version": "3.9.5"
  },
  "orig_nbformat": 4
 },
 "nbformat": 4,
 "nbformat_minor": 2
}
